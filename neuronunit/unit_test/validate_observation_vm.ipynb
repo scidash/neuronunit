{
 "cells": [
  {
   "cell_type": "code",
   "execution_count": 1,
   "metadata": {},
   "outputs": [],
   "source": [
    "import quantities as pq\n",
    "import sciunit\n",
    "from sciunit.errors import ObservationError"
   ]
  },
  {
   "cell_type": "code",
   "execution_count": 2,
   "metadata": {},
   "outputs": [],
   "source": [
    "from neuronunit.tests import APWidthTest"
   ]
  },
  {
   "cell_type": "code",
   "execution_count": 3,
   "metadata": {},
   "outputs": [
    {
     "data": {
      "text/plain": [
       "True"
      ]
     },
     "execution_count": 3,
     "metadata": {},
     "output_type": "execute_result"
    }
   ],
   "source": [
    "sciunit.config_set('PREVALIDATE', True) # Must be set otherwise validation of the observation will not occur until the test is executed.  "
   ]
  },
  {
   "cell_type": "code",
   "execution_count": 4,
   "metadata": {
    "tags": []
   },
   "outputs": [
    {
     "name": "stdout",
     "output_type": "stream",
     "text": [
      "{'observation': ['none or more than one rule validate', {'oneof definition 0': [{'std': ['required field']}], 'oneof definition 1': [{'n': ['required field'], 'sem': ['required field']}]}]}\n"
     ]
    }
   ],
   "source": [
    "try:\n",
    "    APWidthTest({'mean':3.2*pq.ms}) # Note missing `std` key\n",
    "except ObservationError as e:\n",
    "    print(e)"
   ]
  },
  {
   "cell_type": "code",
   "execution_count": 5,
   "metadata": {
    "tags": []
   },
   "outputs": [
    {
     "name": "stdout",
     "output_type": "stream",
     "text": [
      "{'observation': ['none or more than one rule validate', {'oneof definition 0': [{'std': [\"Must have units of 'millisecond'\"]}], 'oneof definition 1': [{'n': ['required field'], 'sem': ['required field'], 'std': ['unknown field']}]}]}\n"
     ]
    }
   ],
   "source": [
    "try:\n",
    "    APWidthTest({'mean':3.2*pq.ms, 'std':1.4*pq.V}) # Note wrong units\n",
    "except ObservationError as e:\n",
    "    print(e)"
   ]
  },
  {
   "cell_type": "code",
   "execution_count": 6,
   "metadata": {
    "tags": []
   },
   "outputs": [
    {
     "name": "stdout",
     "output_type": "stream",
     "text": [
      "{'observation': ['none or more than one rule validate', {'oneof definition 0': [{'sem': ['unknown field']}], 'oneof definition 1': [{'n': ['required field'], 'std': ['unknown field']}]}]}\n"
     ]
    }
   ],
   "source": [
    "try:\n",
    "    APWidthTest({'mean':3.2*pq.ms, 'std':1.4*pq.ms, 'sem':0.7*pq.ms}) # Note mutually exclusive `std` and `sem` keys\n",
    "except ObservationError as e:\n",
    "    print(e)"
   ]
  },
  {
   "cell_type": "code",
   "execution_count": 7,
   "metadata": {},
   "outputs": [
    {
     "data": {
      "text/plain": [
       "<neuronunit.tests.waveform.APWidthTest at 0x11c3ced2910>"
      ]
     },
     "execution_count": 7,
     "metadata": {},
     "output_type": "execute_result"
    }
   ],
   "source": [
    "APWidthTest({'mean':3.2*pq.ms, 'std':1.4*pq.ms}) # Should validate"
   ]
  }
 ],
 "metadata": {
  "kernelspec": {
   "display_name": "Python 3",
   "language": "python",
   "name": "python3"
  },
  "language_info": {
   "codemirror_mode": {
    "name": "ipython",
    "version": 3
   },
   "file_extension": ".py",
   "mimetype": "text/x-python",
   "name": "python",
   "nbconvert_exporter": "python",
   "pygments_lexer": "ipython3",
   "version": "3.7.4"
  }
 },
 "nbformat": 4,
 "nbformat_minor": 2
}
