{
 "cells": [
  {
   "cell_type": "code",
   "execution_count": 1,
   "metadata": {},
   "outputs": [
    {
     "name": "stderr",
     "output_type": "stream",
     "text": [
      "/home/rudolph/anaconda3/lib/python3.8/site-packages/cerberus/validator.py:1607: UserWarning: No validation schema is defined for the arguments of rule 'not_zero_obs_zscore'\n",
      "  warn(\n"
     ]
    }
   ],
   "source": [
    "import unittest\n",
    "import matplotlib\n",
    "from neuronunit.allenapi.allen_data_driven import opt_setup, opt_setup_two, opt_exec\n",
    "from neuronunit.allenapi.allen_data_driven import opt_to_model,wrap_setups\n",
    "from neuronunit.allenapi.utils import dask_map_function"
   ]
  },
  {
   "cell_type": "markdown",
   "metadata": {},
   "source": []
  },
  {
   "cell_type": "code",
   "execution_count": 2,
   "metadata": {
    "lines_to_next_cell": 1
   },
   "outputs": [],
   "source": [
    "from neuronunit.optimization.optimization_management import check_bin_vm_soma\n",
    "from neuronunit.optimization.model_parameters import MODEL_PARAMS, BPO_PARAMS, to_bpo_param\n",
    "from neuronunit.optimization.optimization_management import dtc_to_rheo,inject_and_plot_model\n",
    "import numpy as np\n",
    "from neuronunit.optimization.data_transport_container import DataTC\n",
    "import efel\n",
    "from jithub.models import model_classes\n",
    "import matplotlib.pyplot as plt\n",
    "import quantities as qt\n",
    "import os\n",
    "from sciunit.scores import RelativeDifferenceScore,ZScore\n",
    "import copy"
   ]
  },
  {
   "cell_type": "code",
   "execution_count": 3,
   "metadata": {},
   "outputs": [],
   "source": [
    "\n",
    "\n",
    "class testOptimization(unittest.TestCase):\n",
    "    def setUp(self):\n",
    "        self = self\n",
    "        self.ids = [ 324257146,\n",
    "                325479788,\n",
    "                476053392,\n",
    "                623893177,\n",
    "                623960880,\n",
    "                482493761,\n",
    "                471819401\n",
    "               ]\n",
    "        self.specimen_id = self.ids[1]\n",
    "    def optimize_job(self,model_type,score_type=ZScore):\n",
    "\n",
    "        target_num_spikes = 8\n",
    "        dtc = DataTC()\n",
    "        dtc.backend = model_type\n",
    "        model = dtc.dtc_to_model()\n",
    "        model.params = copy.copy(BPO_PARAMS[model_type])\n",
    "        fixed_current = 122 *qt.pA\n",
    "        if model_type is \"ADEXP\":\n",
    "            NGEN = 100\n",
    "            MU = 20\n",
    "        else:\n",
    "            NGEN = 100\n",
    "            MU = 100\n",
    "            \n",
    "        mapping_funct = dask_map_function\n",
    "        cell_evaluator,simple_cell,suite,target_current,spk_count = wrap_setups(\n",
    "                  self.specimen_id,\n",
    "                  model_type,\n",
    "                  target_num_spikes,\n",
    "                  template_model=copy.copy(model),\n",
    "                  fixed_current=False,\n",
    "                  cached=False,\n",
    "                  score_type=score_type\n",
    "        )\n",
    "        del model\n",
    "\n",
    "        final_pop, hall_of_fame, logs, hist = opt_exec(MU,NGEN,mapping_funct,cell_evaluator)\n",
    "        opt,target = opt_to_model(hall_of_fame,cell_evaluator,suite, target_current, spk_count)\n",
    "        best_ind = hall_of_fame[0]\n",
    "        fitnesses = cell_evaluator.evaluate_with_lists(best_ind)\n",
    "        target.vm_soma = suite.traces['vm15']\n",
    "        check_bin_vm_soma(target,opt)\n",
    "        \n",
    "        return np.sum(fitnesses)\n",
    "    def test_opt_relative_diff(self):\n",
    "        model_type = \"ADEXP\"\n",
    "        sum_fit = self.optimize_job(model_type,score_type=RelativeDifferenceScore)\n",
    "        print('met fitness goals')\n",
    "        #assert sum_fit<9.0\n",
    "    def test_opt_ZScore(self):\n",
    "        model_type = \"ADEXP\"\n",
    "        sum_fit = self.optimize_job(model_type,score_type=ZScore)\n",
    "        print('met fitness goals')\n",
    "        #assert sum_fit<0.7\n",
    "\n",
    "    def test_opt_relative_diff_izhi(self):\n",
    "        model_type = \"IZHI\"\n",
    "        self.optimize_job(model_type,score_type=RelativeDifferenceScore)\n",
    "\n",
    "    def test_opt_ZScore_izhi(self):\n",
    "        model_type = \"IZHI\"\n",
    "        self.optimize_job(model_type,score_type=ZScore)\n"
   ]
  },
  {
   "cell_type": "code",
   "execution_count": 4,
   "metadata": {},
   "outputs": [],
   "source": [
    "tt = testOptimization()\n",
    "tt.setUp()\n"
   ]
  },
  {
   "cell_type": "code",
   "execution_count": 5,
   "metadata": {},
   "outputs": [
    {
     "data": {
      "image/png": "[encoded data removed]",
      "text/plain": [
       "<Figure size 432x288 with 1 Axes>"
      ]
     },
     "metadata": {},
     "output_type": "display_data"
    },
    {
     "name": "stdout",
     "output_type": "stream",
     "text": [
      "IzhiModel IZHI\n",
      "IzhiModel IZHI\n",
      "[<bluepyopt.parameters.Parameter object at 0x7f8043671310>, <bluepyopt.parameters.Parameter object at 0x7f8043671370>, <bluepyopt.parameters.Parameter object at 0x7f80436713d0>, <bluepyopt.parameters.Parameter object at 0x7f8043671430>, <bluepyopt.parameters.Parameter object at 0x7f8043671490>, <bluepyopt.parameters.Parameter object at 0x7f80436714f0>, <bluepyopt.parameters.Parameter object at 0x7f8043671550>, <bluepyopt.parameters.Parameter object at 0x7f80436715b0>, <bluepyopt.parameters.Parameter object at 0x7f8043671610>, <bluepyopt.parameters.Parameter object at 0x7f8043671670>]\n"
     ]
    },
    {
     "name": "stderr",
     "output_type": "stream",
     "text": [
      "2021-01-18 12:55:34.557 INFO    __main__: gen\tnevals\tavg    \tstd    \tmin    \tmax  \n",
      "1  \t100   \t6011.28\t9628.12\t31.6277\t22000\n"
     ]
    },
    {
     "data": {
      "application/vnd.jupyter.widget-view+json": {
       "model_id": "b83a501db8174d20bb3205f2322c0053",
       "version_major": 2,
       "version_minor": 0
      },
      "text/plain": [
       "HBox(children=(HTML(value=''), FloatProgress(value=0.0), HTML(value='')))"
      ]
     },
     "metadata": {},
     "output_type": "display_data"
    },
    {
     "name": "stderr",
     "output_type": "stream",
     "text": [
      "2021-01-18 12:57:07.017 INFO    __main__: 2  \t72    \t6338.02\t9747.78\t31.6277\t22000\n",
      "2021-01-18 12:57:49.045 INFO    __main__: 3  \t68    \t826.618\t3844.25\t31.1577\t22000\n",
      "2021-01-18 12:58:40.423 INFO    __main__: 4  \t71    \t1882.19\t5583.68\t31.1577\t22000\n",
      "2021-01-18 12:59:24.833 INFO    __main__: 5  \t62    \t906.262\t3956.82\t13.2672\t22000\n",
      "2021-01-18 12:59:56.213 INFO    __main__: 6  \t52    \t464.681\t2791.35\t13.2672\t22000\n",
      "2021-01-18 13:00:48.109 INFO    __main__: 7  \t61    \t1461.25\t5231.66\t13.2672\t22000\n",
      "2021-01-18 13:01:26.890 INFO    __main__: 8  \t66    \t212.378\t1950.2 \t13.2672\t22000\n",
      "2021-01-18 13:02:10.393 INFO    __main__: 9  \t63    \t678.773\t3655.59\t13.2672\t22000\n",
      "2021-01-18 13:02:54.144 INFO    __main__: 10 \t68    \t49.336 \t141.305\t13.2672\t1036.06\n",
      "2021-01-18 13:03:48.055 INFO    __main__: 11 \t64    \t1261.39\t4886.8 \t9.69307\t22000  \n",
      "2021-01-18 13:04:32.616 INFO    __main__: 12 \t68    \t205.71 \t1951.64\t8.18122\t22000  \n",
      "2021-01-18 13:05:16.987 INFO    __main__: 13 \t66    \t153.407\t1508.5 \t7.65869\t17018.2\n",
      "2021-01-18 13:05:58.421 INFO    __main__: 14 \t64    \t18.4191\t15.382 \t7.65869\t155.461\n",
      "2021-01-18 13:06:39.812 INFO    __main__: 15 \t69    \t17.1787\t10.7971\t7.34419\t106.579\n",
      "2021-01-18 13:07:15.373 INFO    __main__: 16 \t68    \t16.5343\t3.99135\t7.34419\t28.1411\n",
      "2021-01-18 13:07:49.977 INFO    __main__: 17 \t62    \t192.473\t1950.58\t7.34419\t22000  \n",
      "2021-01-18 13:08:26.058 INFO    __main__: 18 \t69    \t17.2852\t15.1978\t7.34419\t134.975\n",
      "2021-01-18 13:08:59.308 INFO    __main__: 19 \t64    \t15.975 \t4.43526\t7.34419\t32.2939\n",
      "2021-01-18 13:09:34.570 INFO    __main__: 20 \t67    \t16.0663\t11.0989\t7.04816\t127.739\n",
      "2021-01-18 13:10:02.435 INFO    __main__: 21 \t54    \t15.3137\t5.05059\t7.04816\t29.7582\n",
      "2021-01-18 13:10:32.049 INFO    __main__: 22 \t57    \t73.0297\t621.912\t7.04816\t7025.55\n",
      "2021-01-18 13:11:03.682 INFO    __main__: 23 \t61    \t14.7216\t4.28291\t7.04816\t31.1907\n",
      "2021-01-18 13:11:37.896 INFO    __main__: 24 \t66    \t14.41  \t5.15656\t7.04816\t27.965 \n",
      "2021-01-18 13:12:06.157 INFO    __main__: 25 \t54    \t152.265\t1508.88\t6.90108\t17020.5\n",
      "2021-01-18 13:12:37.970 INFO    __main__: 26 \t61    \t13.4556\t4.7233 \t6.90108\t28.8211\n",
      "2021-01-18 13:13:09.745 INFO    __main__: 27 \t61    \t34.181 \t178.732\t6.80515\t2030.18\n",
      "2021-01-18 13:13:44.798 INFO    __main__: 28 \t68    \t16.2383\t4.99745\t6.80515\t32.4549\n",
      "2021-01-18 13:14:19.376 INFO    __main__: 29 \t67    \t32.7454\t178.889\t6.80515\t2031.85\n",
      "2021-01-18 13:14:53.050 INFO    __main__: 30 \t65    \t153.078\t1508.73\t6.80515\t17021.1\n",
      "2021-01-18 13:15:27.156 INFO    __main__: 31 \t66    \t15.5695\t8.50711\t6.80515\t96.8905\n",
      "2021-01-18 13:15:56.085 INFO    __main__: 32 \t56    \t15.5706\t10.0448\t6.80515\t114.935\n",
      "2021-01-18 13:16:30.680 INFO    __main__: 33 \t67    \t16.3826\t8.56871\t6.80515\t95.1164\n",
      "2021-01-18 13:17:05.704 INFO    __main__: 34 \t68    \t15.081 \t5.21607\t6.80515\t29.5145\n",
      "2021-01-18 13:17:41.783 INFO    __main__: 35 \t70    \t15.2786\t4.7713 \t6.80515\t28.557 \n",
      "2021-01-18 13:18:14.758 INFO    __main__: 36 \t64    \t14.8872\t4.42325\t6.80515\t30.3925\n",
      "2021-01-18 13:18:48.777 INFO    __main__: 37 \t66    \t15.6448\t5.75853\t6.22299\t35.8047\n",
      "2021-01-18 13:19:17.171 INFO    __main__: 38 \t55    \t14.2489\t6.01105\t6.22299\t36.0685\n",
      "2021-01-18 13:19:50.202 INFO    __main__: 39 \t64    \t62.3984\t533.974\t6.22299\t6032.07\n",
      "2021-01-18 13:20:23.243 INFO    __main__: 40 \t64    \t12.7473\t4.18889\t6.22299\t31.6234\n",
      "2021-01-18 13:21:01.137 INFO    __main__: 41 \t70    \t188.173\t1950.91\t6.22299\t22000  \n",
      "2021-01-18 13:21:32.680 INFO    __main__: 42 \t61    \t11.637 \t3.98546\t6.22299\t31.6169\n",
      "2021-01-18 13:22:08.416 INFO    __main__: 43 \t69    \t13.3632\t6.50618\t6.22299\t70.1555\n",
      "2021-01-18 13:22:38.357 INFO    __main__: 44 \t58    \t13.9875\t3.82882\t6.22299\t26.358 \n",
      "2021-01-18 13:23:12.428 INFO    __main__: 45 \t66    \t14.7997\t4.05479\t6.22299\t23.1853\n",
      "2021-01-18 13:23:45.529 INFO    __main__: 46 \t64    \t13.0342\t9.88594\t6.22299\t118.146\n",
      "2021-01-18 13:24:19.392 INFO    __main__: 47 \t66    \t12.5764\t4.10883\t6.1315 \t35.5261\n",
      "2021-01-18 13:24:50.804 INFO    __main__: 48 \t57    \t187.011\t1951.02\t6.1315 \t22000  \n",
      "2021-01-18 13:25:26.968 INFO    __main__: 49 \t70    \t11.7791\t3.8741 \t6.1315 \t31.9636\n",
      "2021-01-18 13:26:00.308 INFO    __main__: 50 \t61    \t187.182\t1951   \t6.1315 \t22000  \n",
      "2021-01-18 13:26:38.315 INFO    __main__: 51 \t74    \t10.5653\t3.56923\t6.1315 \t33.0535\n",
      "2021-01-18 13:27:10.837 INFO    __main__: 52 \t63    \t12.6954\t8.29273\t6.1315 \t88.3127\n",
      "2021-01-18 13:27:45.437 INFO    __main__: 53 \t67    \t11.7307\t3.19975\t6.1315 \t24.989 \n",
      "2021-01-18 13:28:15.673 INFO    __main__: 54 \t58    \t76.8633\t560.986\t5.79359\t6020.03\n",
      "2021-01-18 14:05:02.959 INFO    __main__: 55 \t62    \t11.5208\t3.33763\t5.79359\t20.8292\n",
      "2021-01-18 14:05:39.152 INFO    __main__: 56 \t65    \t186.269\t1951.08\t5.79359\t22000  \n",
      "2021-01-18 14:06:14.313 INFO    __main__: 57 \t68    \t11.3636\t8.71454\t5.79359\t93.5529\n",
      "2021-01-18 14:06:52.763 INFO    __main__: 58 \t69    \t187.024\t1951.02\t5.79359\t22000  \n",
      "2021-01-18 14:07:25.280 INFO    __main__: 59 \t63    \t11.0652\t4.47426\t5.79359\t30.2535\n",
      "2021-01-18 14:07:57.356 INFO    __main__: 60 \t62    \t12.2235\t4.81303\t5.79359\t28.5043\n",
      "2021-01-18 14:08:32.427 INFO    __main__: 61 \t68    \t30.6833\t182.079\t5.79359\t2063.92\n",
      "2021-01-18 14:09:02.316 INFO    __main__: 62 \t58    \t11.1429\t4.75959\t5.17632\t32.2049\n",
      "2021-01-18 14:09:39.335 INFO    __main__: 63 \t72    \t11.5329\t4.23656\t5.17632\t36.6877\n",
      "2021-01-18 14:10:12.437 INFO    __main__: 64 \t64    \t12.3659\t8.99297\t5.17632\t96.5793\n",
      "2021-01-18 14:10:46.579 INFO    __main__: 65 \t67    \t12.2497\t6.18281\t5.17632\t36.6877\n",
      "2021-01-18 14:11:23.769 INFO    __main__: 66 \t65    \t426.277\t2796.96\t5.17632\t22000  \n",
      "2021-01-18 14:11:57.477 INFO    __main__: 67 \t63    \t159.999\t1518.57\t5.17632\t17019  \n",
      "2021-01-18 14:12:31.975 INFO    __main__: 68 \t63    \t183.605\t1951.32\t5.17632\t22000  \n",
      "2021-01-18 14:13:04.039 INFO    __main__: 69 \t63    \t9.35003\t4.61964\t5.17632\t33.1398\n",
      "2021-01-18 14:13:38.089 INFO    __main__: 70 \t66    \t10.9467\t4.54833\t5.17632\t35.149 \n",
      "2021-01-18 14:14:06.488 INFO    __main__: 71 \t55    \t11.8236\t3.60663\t5.17632\t29.9775\n",
      "2021-01-18 14:14:39.768 INFO    __main__: 72 \t60    \t186.527\t1951.07\t5.17632\t22000  \n",
      "2021-01-18 14:15:14.356 INFO    __main__: 73 \t67    \t10.0951\t3.52643\t5.17632\t32.2914\n",
      "2021-01-18 14:15:46.620 INFO    __main__: 74 \t63    \t10.9233\t4.09618\t5.17632\t34.8139\n",
      "2021-01-18 14:16:18.000 INFO    __main__: 75 \t61    \t147.756\t1509   \t5.12873\t17018.2\n",
      "2021-01-18 14:16:49.468 INFO    __main__: 76 \t61    \t8.5051 \t2.51017\t5.12873\t14.7932\n",
      "2021-01-18 14:17:23.523 INFO    __main__: 77 \t66    \t11.9427\t9.4295 \t5.12873\t108.201\n",
      "2021-01-18 14:17:54.157 INFO    __main__: 78 \t59    \t51.0808\t321.446\t5.12873\t3037.03\n",
      "2021-01-18 14:18:28.197 INFO    __main__: 79 \t66    \t58.7151\t533.857\t5.12873\t6027.31\n",
      "2021-01-18 14:19:02.456 INFO    __main__: 80 \t66    \t11.5011\t8.0763 \t5.12873\t91.4864\n",
      "2021-01-18 14:19:34.108 INFO    __main__: 81 \t61    \t28.372 \t179.4  \t5.12873\t2031.76\n",
      "2021-01-18 14:20:08.745 INFO    __main__: 82 \t68    \t28.0303\t179.281\t5.12873\t2031.76\n",
      "2021-01-18 14:20:41.015 INFO    __main__: 83 \t63    \t67.8283\t623.203\t5.12873\t7035.24\n",
      "2021-01-18 14:21:12.595 INFO    __main__: 84 \t59    \t33.8769\t268.595\t5.12873\t3036.55\n",
      "2021-01-18 14:21:42.603 INFO    __main__: 85 \t58    \t13.4701\t9.22839\t5.12873\t105.927\n",
      "2021-01-18 14:22:16.176 INFO    __main__: 86 \t61    \t188.387\t1950.91\t5.12873\t22000  \n",
      "2021-01-18 14:22:52.280 INFO    __main__: 87 \t70    \t11.2404\t3.83075\t5.12873\t30.2253\n",
      "2021-01-18 14:23:27.996 INFO    __main__: 88 \t70    \t12.0304\t4.15659\t5.12873\t33.0332\n",
      "2021-01-18 14:24:02.353 INFO    __main__: 89 \t66    \t11.7944\t6.39279\t5.12873\t66.1141\n",
      "2021-01-18 14:24:33.836 INFO    __main__: 90 \t57    \t10.4247\t3.81403\t5.12873\t33.2452\n",
      "2021-01-18 14:25:08.906 INFO    __main__: 91 \t62    \t368.915\t2508.72\t5.12873\t22000  \n",
      "2021-01-18 14:25:47.172 INFO    __main__: 92 \t63    \t8.80877\t4.17984\t5.12873\t34.8842\n",
      "2021-01-18 14:26:26.848 INFO    __main__: 93 \t65    \t11.034 \t4.97103\t5.12873\t36.6708\n",
      "2021-01-18 14:27:01.845 INFO    __main__: 94 \t55    \t336.73 \t2568.58\t5.12873\t22000  \n",
      "2021-01-18 14:27:49.030 INFO    __main__: 95 \t68    \t81.7458\t799.355\t5.12873\t9018.44\n",
      "2021-01-18 14:28:31.106 INFO    __main__: 96 \t61    \t183.321\t1951.35\t5.12873\t22000  \n",
      "2021-01-18 14:29:15.279 INFO    __main__: 97 \t63    \t143.549\t1509.42\t5.12873\t17019.3\n",
      "2021-01-18 14:29:58.776 INFO    __main__: 98 \t64    \t8.43222\t2.64746\t5.12873\t18.2819\n"
     ]
    },
    {
     "name": "stderr",
     "output_type": "stream",
     "text": [
      "2021-01-18 14:30:39.997 INFO    __main__: 99 \t62    \t11.1948\t5.03033\t5.12873\t35.336 \n",
      "2021-01-18 14:31:28.115 INFO    __main__: 100\t68    \t186.757\t1951.04\t5.12873\t22000  \n",
      "2021-01-18 14:31:28.118 INFO    __main__: Run stopped because of stopping criteria: Max ngen\n"
     ]
    },
    {
     "name": "stdout",
     "output_type": "stream",
     "text": [
      "\n"
     ]
    },
    {
     "data": {
      "image/png": "[encoded data removed]",
      "text/plain": [
       "<Figure size 432x288 with 1 Axes>"
      ]
     },
     "metadata": {},
     "output_type": "display_data"
    }
   ],
   "source": [
    "tt.test_opt_relative_diff_izhi()"
   ]
  },
  {
   "cell_type": "code",
   "execution_count": null,
   "metadata": {},
   "outputs": [
    {
     "data": {
      "image/png": "[encoded data removed]",
      "text/plain": [
       "<Figure size 432x288 with 1 Axes>"
      ]
     },
     "metadata": {},
     "output_type": "display_data"
    },
    {
     "name": "stdout",
     "output_type": "stream",
     "text": [
      "IzhiModel IZHI\n",
      "IzhiModel IZHI\n",
      "[<bluepyopt.parameters.Parameter object at 0x7f8043671310>, <bluepyopt.parameters.Parameter object at 0x7f8043671370>, <bluepyopt.parameters.Parameter object at 0x7f80436713d0>, <bluepyopt.parameters.Parameter object at 0x7f8043671430>, <bluepyopt.parameters.Parameter object at 0x7f8043671490>, <bluepyopt.parameters.Parameter object at 0x7f80436714f0>, <bluepyopt.parameters.Parameter object at 0x7f8043671550>, <bluepyopt.parameters.Parameter object at 0x7f80436715b0>, <bluepyopt.parameters.Parameter object at 0x7f8043671610>, <bluepyopt.parameters.Parameter object at 0x7f8043671670>]\n"
     ]
    },
    {
     "name": "stderr",
     "output_type": "stream",
     "text": [
      "2021-01-18 14:33:14.765 INFO    __main__: gen\tnevals\tavg    \tstd    \tmin    \tmax  \n",
      "1  \t100   \t7002.21\t9141.09\t12.6378\t22000\n"
     ]
    },
    {
     "data": {
      "application/vnd.jupyter.widget-view+json": {
       "model_id": "a723d076dcf14b4bbddab1733161c580",
       "version_major": 2,
       "version_minor": 0
      },
      "text/plain": [
       "HBox(children=(HTML(value=''), FloatProgress(value=0.0), HTML(value='')))"
      ]
     },
     "metadata": {},
     "output_type": "display_data"
    },
    {
     "name": "stderr",
     "output_type": "stream",
     "text": [
      "2021-01-18 14:34:40.136 INFO    __main__: 2  \t72    \t7251.13\t9270.58\t12.6378\t22000\n",
      "2021-01-18 14:35:15.905 INFO    __main__: 3  \t72    \t896.45 \t3267.05\t12.6378\t22000\n",
      "2021-01-18 14:36:08.222 INFO    __main__: 4  \t67    \t1926.02\t5554.26\t12.252 \t22000\n"
     ]
    }
   ],
   "source": [
    "\n",
    "tt.test_opt_ZScore_izhi()"
   ]
  },
  {
   "cell_type": "markdown",
   "metadata": {},
   "source": [
    "# Z score works"
   ]
  },
  {
   "cell_type": "code",
   "execution_count": null,
   "metadata": {},
   "outputs": [],
   "source": [
    "\n",
    "tt.test_opt_ZScore()\n"
   ]
  },
  {
   "cell_type": "markdown",
   "metadata": {},
   "source": [
    "# Relative DIfference Also Works Now"
   ]
  },
  {
   "cell_type": "code",
   "execution_count": null,
   "metadata": {},
   "outputs": [],
   "source": [
    "\n",
    "\n",
    "tt.test_opt_relative_diff()"
   ]
  },
  {
   "cell_type": "code",
   "execution_count": null,
   "metadata": {},
   "outputs": [],
   "source": []
  },
  {
   "cell_type": "code",
   "execution_count": null,
   "metadata": {},
   "outputs": [],
   "source": []
  }
 ],
 "metadata": {
  "jupytext": {
   "cell_metadata_filter": "-all",
   "notebook_metadata_filter": "-all",
   "text_representation": {
    "extension": ".py",
    "format_name": "light"
   }
  },
  "kernelspec": {
   "display_name": "Python 3",
   "language": "python",
   "name": "python3"
  },
  "language_info": {
   "codemirror_mode": {
    "name": "ipython",
    "version": 3
   },
   "file_extension": ".py",
   "mimetype": "text/x-python",
   "name": "python",
   "nbconvert_exporter": "python",
   "pygments_lexer": "ipython3",
   "version": "3.8.5"
  }
 },
 "nbformat": 4,
 "nbformat_minor": 2
}
