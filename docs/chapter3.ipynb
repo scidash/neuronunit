{
 "cells": [
  {
   "cell_type": "markdown",
   "metadata": {},
   "source": [
    "![NeuronUnit Logo](https://raw.githubusercontent.com/scidash/assets/master/logos/neuronunit-logo-text.png)\n",
    "# Chapter 3\n",
    "Back to [Chapter 2](chapter2.ipynb)"
   ]
  },
  {
   "cell_type": "markdown",
   "metadata": {},
   "source": [
    "Here we'll link these tests into a suite and use suite hooks to make the parameters of the second test depend on the outcome of the first.  We'll also add a lot of other tests to the suite, and show how we can parameterically vary the model and see how its performance on the suite changes."
   ]
  },
  {
   "cell_type": "code",
   "execution_count": 1,
   "metadata": {},
   "outputs": [],
   "source": [
    "%matplotlib inline\n",
    "import os, sys\n",
    "import numpy as np\n",
    "import matplotlib.pyplot as plt\n",
    "import matplotlib as mpl\n",
    "mpl.rcParams['font.size'] = 18\n",
    "import quantities as pq\n",
    "import sciunit\n",
    "import neuronunit\n",
    "from neuronunit import aibs\n",
    "from neuronunit.models.reduced import ReducedModel"
   ]
  },
  {
   "cell_type": "code",
   "execution_count": 2,
   "metadata": {},
   "outputs": [
    {
     "name": "stdout",
     "output_type": "stream",
     "text": [
      "Getting Rheobase cached data value for from AIBS dataset 354190013\n",
      "Getting Input Resistance data values from neuroelectro.org\n",
      "http://neuroelectro.org/api/1/nes/?nlex=nifext_50&e__name=Input+Resistance\n",
      "Getting Membrane Time Constant data values from neuroelectro.org\n",
      "http://neuroelectro.org/api/1/nes/?nlex=nifext_50&e__name=Membrane+Time+Constant\n",
      "Getting Cell Capacitance data values from neuroelectro.org\n",
      "http://neuroelectro.org/api/1/nes/?nlex=nifext_50&e__name=Cell+Capacitance\n",
      "Getting Resting membrane potential data values from neuroelectro.org\n",
      "http://neuroelectro.org/api/1/nes/?nlex=nifext_50&e__name=Resting+membrane+potential\n",
      "Getting Spike Half-Width data values from neuroelectro.org\n",
      "http://neuroelectro.org/api/1/nes/?nlex=nifext_50&e__name=Spike+Half-Width\n",
      "Getting Spike Amplitude data values from neuroelectro.org\n",
      "http://neuroelectro.org/api/1/nes/?nlex=nifext_50&e__name=Spike+Amplitude\n",
      "Getting Spike Threshold data values from neuroelectro.org\n",
      "http://neuroelectro.org/api/1/nes/?nlex=nifext_50&e__name=Spike+Threshold\n"
     ]
    }
   ],
   "source": [
    "import quantities as pq\n",
    "from neuronunit import tests as nu_tests, neuroelectro\n",
    "neuron = {'nlex_id': 'nifext_50'} # Layer V pyramidal cell\n",
    "tests = []\n",
    "\n",
    "dataset_id = 354190013  # Internal ID that AIBS uses for a particular Scnn1a-Tg2-Cre \n",
    "                        # Primary visual area, layer 5 neuron.\n",
    "    \n",
    "# Obtain the empirical rheobase current from the Allen Brain Insitute Cell Types database.  \n",
    "observation = aibs.get_observation(dataset_id, 'rheobase')\n",
    "rheobase_test = nu_tests.RheobaseTest(observation=observation)\n",
    "tests += [rheobase_test]\n",
    "    \n",
    "test_class_params = [(nu_tests.InputResistanceTest, {}),\n",
    "                     (nu_tests.TimeConstantTest, {}),\n",
    "                     (nu_tests.CapacitanceTest, {}),\n",
    "                     (nu_tests.RestingPotentialTest, {}),\n",
    "                     (nu_tests.InjectedCurrentAPWidthTest, {}),\n",
    "                     (nu_tests.InjectedCurrentAPAmplitudeTest, {}),\n",
    "                     (nu_tests.InjectedCurrentAPThresholdTest, {})\n",
    "                    ]\n",
    "\n",
    "# Obtain all other parameters from neuroelectro.org.\n",
    "for cls, params in test_class_params:\n",
    "    observation = cls.neuroelectro_summary_observation(neuron)\n",
    "    tests += [cls(observation, **params)]\n",
    "    \n",
    "# A hook to update all tests after the RheobaseTest to use the rheobase current (to produce exactly one AP)\n",
    "def update_amplitude(test,tests,score):\n",
    "    rheobase = score.prediction['value']\n",
    "    for test in tests[1:]:\n",
    "        if 'Injected' in test.name:\n",
    "            # Set current injection to just suprathreshold\n",
    "            test.params['injected_square_current']['amplitude'] = rheobase*1.01 \n",
    "    \n",
    "hooks = {tests[0]: {'f': update_amplitude}}\n",
    "suite = sciunit.TestSuite(tests,name=\"vm_suite\", hooks=hooks)"
   ]
  },
  {
   "cell_type": "markdown",
   "metadata": {},
   "source": [
    "### The Izhikevich model here is defined in an NeuroML2/LEMS file.  \n",
    "### We will run it using the jNeuroML backend for simplicity, although this is *much* slower than the native NEURON backend.  "
   ]
  },
  {
   "cell_type": "code",
   "execution_count": 3,
   "metadata": {},
   "outputs": [],
   "source": [
    "# This example is from https://github.com/OpenSourceBrain/IzhikevichModel.\n",
    "from pathlib import Path\n",
    "LEMS_MODEL_PATH = Path(neuronunit.__path__[0]).parent / 'docs' / 'data' / 'NeuroML2' / 'LEMS_2007One.xml'\n",
    "model = ReducedModel(LEMS_MODEL_PATH, name='Vanilla_Model', backend='jNeuroML')"
   ]
  },
  {
   "cell_type": "markdown",
   "metadata": {},
   "source": [
    "### Run a series of tests.  The RheobaseTest is run first to obtain the rheobase current to use in all the other tests."
   ]
  },
  {
   "cell_type": "code",
   "execution_count": 4,
   "metadata": {},
   "outputs": [
    {
     "name": "stdout",
     "output_type": "stream",
     "text": [
      "\u001b[38;2;230;78;52m\u001b[48;2;50;50;50mScore: Fail for Vanilla_Model on RheobaseTest\u001b[0m\n",
      "\u001b[38;2;229;244;155m\u001b[48;2;50;50;50mScore: Z = -0.53 for Vanilla_Model on InputResistanceTest\u001b[0m\n",
      "\u001b[38;2;254;220;136m\u001b[48;2;50;50;50mScore: Z = -0.94 for Vanilla_Model on TimeConstantTest\u001b[0m\n",
      "\u001b[38;2;169;219;108m\u001b[48;2;50;50;50mScore: Z = -0.28 for Vanilla_Model on CapacitanceTest\u001b[0m\n",
      "\u001b[38;2;253;170;95m\u001b[48;2;50;50;50mScore: Z = 1.26 for Vanilla_Model on RestingPotentialTest\u001b[0m\n",
      "{'duration': array(300.) * ms, 'delay': array(100.) * ms, 'amplitude': array(52.37402344) * pA}\n"
     ]
    },
    {
     "name": "stderr",
     "output_type": "stream",
     "text": [
      "Spike train had length 0; no spike waveforms could be extracted.\n"
     ]
    },
    {
     "name": "stdout",
     "output_type": "stream",
     "text": [
      "\u001b[38;2;128;128;128m\u001b[48;2;50;50;50mScore: Insufficient Data for Vanilla_Model on InjectedCurrentAPWidthTest\u001b[0m\n"
     ]
    },
    {
     "name": "stderr",
     "output_type": "stream",
     "text": [
      "Spike train had length 0; no spike waveforms could be extracted.\n",
      "Spike train had length 0; no spike waveforms could be extracted.\n"
     ]
    },
    {
     "name": "stdout",
     "output_type": "stream",
     "text": [
      "\u001b[38;2;128;128;128m\u001b[48;2;50;50;50mScore: Insufficient Data for Vanilla_Model on InjectedCurrentAPAmplitudeTest\u001b[0m\n"
     ]
    },
    {
     "name": "stderr",
     "output_type": "stream",
     "text": [
      "Spike train had length 0; no spike waveforms could be extracted.\n"
     ]
    },
    {
     "name": "stdout",
     "output_type": "stream",
     "text": [
      "\u001b[38;2;128;128;128m\u001b[48;2;50;50;50mScore: Insufficient Data for Vanilla_Model on InjectedCurrentAPThresholdTest\u001b[0m\n"
     ]
    }
   ],
   "source": [
    "score_matrix = suite.judge(model)"
   ]
  },
  {
   "cell_type": "code",
   "execution_count": 5,
   "metadata": {},
   "outputs": [
    {
     "data": {
      "text/html": [
       "<style  type=\"text/css\" >\n",
       "#T_7b45e_row0_col0,#T_7b45e_row6_col0,#T_7b45e_row7_col0,#T_7b45e_row8_col0{\n",
       "            background-color:  rgb(50, 50, 50);\n",
       "             color:  rgb(128, 128, 128);\n",
       "             text-align:  center;\n",
       "        }#T_7b45e_row1_col0{\n",
       "            background-color:  rgb(50, 50, 50);\n",
       "             color:  rgb(230, 78, 52);\n",
       "             text-align:  center;\n",
       "        }#T_7b45e_row2_col0{\n",
       "            background-color:  rgb(50, 50, 50);\n",
       "             color:  rgb(229, 244, 155);\n",
       "             text-align:  center;\n",
       "        }#T_7b45e_row3_col0{\n",
       "            background-color:  rgb(50, 50, 50);\n",
       "             color:  rgb(254, 220, 136);\n",
       "             text-align:  center;\n",
       "        }#T_7b45e_row4_col0{\n",
       "            background-color:  rgb(50, 50, 50);\n",
       "             color:  rgb(169, 219, 108);\n",
       "             text-align:  center;\n",
       "        }#T_7b45e_row5_col0{\n",
       "            background-color:  rgb(50, 50, 50);\n",
       "             color:  rgb(253, 170, 95);\n",
       "             text-align:  center;\n",
       "        }</style><table id=\"T_7b45e_\" ><thead>    <tr>        <th class=\"blank level0\" ></th>        <th class=\"col_heading level0 col0\" >Vanilla_Model</th>    </tr></thead><tbody>\n",
       "                <tr>\n",
       "                        <th id=\"T_7b45e_level0_row0\" class=\"row_heading level0 row0\" >Mean</th>\n",
       "                        <td id=\"T_7b45e_row0_col0\" class=\"data row0 col0\" >nan</td>\n",
       "            </tr>\n",
       "            <tr>\n",
       "                        <th id=\"T_7b45e_level0_row1\" class=\"row_heading level0 row1\" >RheobaseTest</th>\n",
       "                        <td id=\"T_7b45e_row1_col0\" class=\"data row1 col0\" >Fail</td>\n",
       "            </tr>\n",
       "            <tr>\n",
       "                        <th id=\"T_7b45e_level0_row2\" class=\"row_heading level0 row2\" >InputResistanceTest</th>\n",
       "                        <td id=\"T_7b45e_row2_col0\" class=\"data row2 col0\" >Z = -0.53</td>\n",
       "            </tr>\n",
       "            <tr>\n",
       "                        <th id=\"T_7b45e_level0_row3\" class=\"row_heading level0 row3\" >TimeConstantTest</th>\n",
       "                        <td id=\"T_7b45e_row3_col0\" class=\"data row3 col0\" >Z = -0.94</td>\n",
       "            </tr>\n",
       "            <tr>\n",
       "                        <th id=\"T_7b45e_level0_row4\" class=\"row_heading level0 row4\" >CapacitanceTest</th>\n",
       "                        <td id=\"T_7b45e_row4_col0\" class=\"data row4 col0\" >Z = -0.28</td>\n",
       "            </tr>\n",
       "            <tr>\n",
       "                        <th id=\"T_7b45e_level0_row5\" class=\"row_heading level0 row5\" >RestingPotentialTest</th>\n",
       "                        <td id=\"T_7b45e_row5_col0\" class=\"data row5 col0\" >Z = 1.26</td>\n",
       "            </tr>\n",
       "            <tr>\n",
       "                        <th id=\"T_7b45e_level0_row6\" class=\"row_heading level0 row6\" >InjectedCurrentAPWidthTest</th>\n",
       "                        <td id=\"T_7b45e_row6_col0\" class=\"data row6 col0\" >Insufficient Data</td>\n",
       "            </tr>\n",
       "            <tr>\n",
       "                        <th id=\"T_7b45e_level0_row7\" class=\"row_heading level0 row7\" >InjectedCurrentAPAmplitudeTest</th>\n",
       "                        <td id=\"T_7b45e_row7_col0\" class=\"data row7 col0\" >Insufficient Data</td>\n",
       "            </tr>\n",
       "            <tr>\n",
       "                        <th id=\"T_7b45e_level0_row8\" class=\"row_heading level0 row8\" >InjectedCurrentAPThresholdTest</th>\n",
       "                        <td id=\"T_7b45e_row8_col0\" class=\"data row8 col0\" >Insufficient Data</td>\n",
       "            </tr>\n",
       "    </tbody></table>"
      ],
      "text/plain": [
       "                                    Vanilla_Model\n",
       "Mean                                          nan\n",
       "RheobaseTest                                 Fail\n",
       "InputResistanceTest                     Z = -0.53\n",
       "TimeConstantTest                        Z = -0.94\n",
       "CapacitanceTest                         Z = -0.28\n",
       "RestingPotentialTest                     Z = 1.26\n",
       "InjectedCurrentAPWidthTest      Insufficient Data\n",
       "InjectedCurrentAPAmplitudeTest  Insufficient Data\n",
       "InjectedCurrentAPThresholdTest  Insufficient Data"
      ]
     },
     "execution_count": 5,
     "metadata": {},
     "output_type": "execute_result"
    }
   ],
   "source": [
    "score_matrix.add_mean().T"
   ]
  },
  {
   "cell_type": "markdown",
   "metadata": {},
   "source": [
    "### Now we can sweep across a parameter (the resting potential) and run the same test suite on a model corresponding to each value of this parameter."
   ]
  },
  {
   "cell_type": "code",
   "execution_count": 6,
   "metadata": {},
   "outputs": [
    {
     "data": {
      "text/plain": [
       "[V_rest=-80mV (ReducedModel),\n",
       " V_rest=-70mV (ReducedModel),\n",
       " V_rest=-60mV (ReducedModel),\n",
       " V_rest=-50mV (ReducedModel)]"
      ]
     },
     "execution_count": 6,
     "metadata": {},
     "output_type": "execute_result"
    }
   ],
   "source": [
    "models = []\n",
    "for vr in np.linspace(-80, -50, 4):\n",
    "    model = ReducedModel(LEMS_MODEL_PATH, \n",
    "                         name='V_rest=%dmV' % vr, \n",
    "                         attrs={'//izhikevich2007Cell':\n",
    "                                    {'vr':'%d mV' % vr}\n",
    "                               })\n",
    "    models.append(model)\n",
    "models"
   ]
  },
  {
   "cell_type": "code",
   "execution_count": 7,
   "metadata": {},
   "outputs": [
    {
     "name": "stdout",
     "output_type": "stream",
     "text": [
      "\u001b[38;2;230;78;52m\u001b[48;2;50;50;50mScore: Fail for V_rest=-80mV on RheobaseTest\u001b[0m\n",
      "\u001b[38;2;254;203;121m\u001b[48;2;50;50;50mScore: Z = -1.04 for V_rest=-80mV on InputResistanceTest\u001b[0m\n",
      "\u001b[38;2;247;129;76m\u001b[48;2;50;50;50mScore: Z = -1.56 for V_rest=-80mV on TimeConstantTest\u001b[0m\n",
      "\u001b[38;2;173;220;110m\u001b[48;2;50;50;50mScore: Z = -0.30 for V_rest=-80mV on CapacitanceTest\u001b[0m\n",
      "\u001b[38;2;243;107;66m\u001b[48;2;50;50;50mScore: Z = -1.80 for V_rest=-80mV on RestingPotentialTest\u001b[0m\n",
      "{'duration': array(300.) * ms, 'delay': array(100.) * ms, 'amplitude': array(244.56005859) * pA}\n"
     ]
    },
    {
     "name": "stderr",
     "output_type": "stream",
     "text": [
      "Spike train had length 0; no spike waveforms could be extracted.\n"
     ]
    },
    {
     "name": "stdout",
     "output_type": "stream",
     "text": [
      "\u001b[38;2;128;128;128m\u001b[48;2;50;50;50mScore: Insufficient Data for V_rest=-80mV on InjectedCurrentAPWidthTest\u001b[0m\n"
     ]
    },
    {
     "name": "stderr",
     "output_type": "stream",
     "text": [
      "Spike train had length 0; no spike waveforms could be extracted.\n",
      "Spike train had length 0; no spike waveforms could be extracted.\n"
     ]
    },
    {
     "name": "stdout",
     "output_type": "stream",
     "text": [
      "\u001b[38;2;128;128;128m\u001b[48;2;50;50;50mScore: Insufficient Data for V_rest=-80mV on InjectedCurrentAPAmplitudeTest\u001b[0m\n"
     ]
    },
    {
     "name": "stderr",
     "output_type": "stream",
     "text": [
      "Spike train had length 0; no spike waveforms could be extracted.\n"
     ]
    },
    {
     "name": "stdout",
     "output_type": "stream",
     "text": [
      "\u001b[38;2;128;128;128m\u001b[48;2;50;50;50mScore: Insufficient Data for V_rest=-80mV on InjectedCurrentAPThresholdTest\u001b[0m\n",
      "\u001b[38;2;230;78;52m\u001b[48;2;50;50;50mScore: Fail for V_rest=-70mV on RheobaseTest\u001b[0m\n",
      "\u001b[38;2;255;230;149m\u001b[48;2;50;50;50mScore: Z = -0.87 for V_rest=-70mV on InputResistanceTest\u001b[0m\n",
      "\u001b[38;2;251;155;88m\u001b[48;2;50;50;50mScore: Z = -1.35 for V_rest=-70mV on TimeConstantTest\u001b[0m\n",
      "\u001b[38;2;171;220;109m\u001b[48;2;50;50;50mScore: Z = -0.30 for V_rest=-70mV on CapacitanceTest\u001b[0m\n",
      "\u001b[38;2;165;217;106m\u001b[48;2;50;50;50mScore: Z = -0.27 for V_rest=-70mV on RestingPotentialTest\u001b[0m\n",
      "{'duration': array(300.) * ms, 'delay': array(100.) * ms, 'amplitude': array(130.93505859) * pA}\n"
     ]
    },
    {
     "name": "stderr",
     "output_type": "stream",
     "text": [
      "Spike train had length 0; no spike waveforms could be extracted.\n"
     ]
    },
    {
     "name": "stdout",
     "output_type": "stream",
     "text": [
      "\u001b[38;2;128;128;128m\u001b[48;2;50;50;50mScore: Insufficient Data for V_rest=-70mV on InjectedCurrentAPWidthTest\u001b[0m\n"
     ]
    },
    {
     "name": "stderr",
     "output_type": "stream",
     "text": [
      "Spike train had length 0; no spike waveforms could be extracted.\n",
      "Spike train had length 0; no spike waveforms could be extracted.\n"
     ]
    },
    {
     "name": "stdout",
     "output_type": "stream",
     "text": [
      "\u001b[38;2;128;128;128m\u001b[48;2;50;50;50mScore: Insufficient Data for V_rest=-70mV on InjectedCurrentAPAmplitudeTest\u001b[0m\n"
     ]
    },
    {
     "name": "stderr",
     "output_type": "stream",
     "text": [
      "Spike train had length 0; no spike waveforms could be extracted.\n"
     ]
    },
    {
     "name": "stdout",
     "output_type": "stream",
     "text": [
      "\u001b[38;2;128;128;128m\u001b[48;2;50;50;50mScore: Insufficient Data for V_rest=-70mV on InjectedCurrentAPThresholdTest\u001b[0m\n",
      "\u001b[38;2;230;78;52m\u001b[48;2;50;50;50mScore: Fail for V_rest=-60mV on RheobaseTest\u001b[0m\n",
      "\u001b[38;2;229;244;155m\u001b[48;2;50;50;50mScore: Z = -0.53 for V_rest=-60mV on InputResistanceTest\u001b[0m\n",
      "\u001b[38;2;254;220;136m\u001b[48;2;50;50;50mScore: Z = -0.94 for V_rest=-60mV on TimeConstantTest\u001b[0m\n",
      "\u001b[38;2;169;219;108m\u001b[48;2;50;50;50mScore: Z = -0.28 for V_rest=-60mV on CapacitanceTest\u001b[0m\n",
      "\u001b[38;2;253;170;95m\u001b[48;2;50;50;50mScore: Z = 1.26 for V_rest=-60mV on RestingPotentialTest\u001b[0m\n",
      "{'duration': array(300.) * ms, 'delay': array(100.) * ms, 'amplitude': array(52.37402344) * pA}\n"
     ]
    },
    {
     "name": "stderr",
     "output_type": "stream",
     "text": [
      "Spike train had length 0; no spike waveforms could be extracted.\n"
     ]
    },
    {
     "name": "stdout",
     "output_type": "stream",
     "text": [
      "\u001b[38;2;128;128;128m\u001b[48;2;50;50;50mScore: Insufficient Data for V_rest=-60mV on InjectedCurrentAPWidthTest\u001b[0m\n"
     ]
    },
    {
     "name": "stderr",
     "output_type": "stream",
     "text": [
      "Spike train had length 0; no spike waveforms could be extracted.\n",
      "Spike train had length 0; no spike waveforms could be extracted.\n"
     ]
    },
    {
     "name": "stdout",
     "output_type": "stream",
     "text": [
      "\u001b[38;2;128;128;128m\u001b[48;2;50;50;50mScore: Insufficient Data for V_rest=-60mV on InjectedCurrentAPAmplitudeTest\u001b[0m\n"
     ]
    },
    {
     "name": "stderr",
     "output_type": "stream",
     "text": [
      "Spike train had length 0; no spike waveforms could be extracted.\n"
     ]
    },
    {
     "name": "stdout",
     "output_type": "stream",
     "text": [
      "\u001b[38;2;128;128;128m\u001b[48;2;50;50;50mScore: Insufficient Data for V_rest=-60mV on InjectedCurrentAPThresholdTest\u001b[0m\n",
      "\u001b[38;2;230;78;52m\u001b[48;2;50;50;50mScore: Fail for V_rest=-50mV on RheobaseTest\u001b[0m\n",
      "\u001b[38;2;169;219;108m\u001b[48;2;50;50;50mScore: Z = 0.29 for V_rest=-50mV on InputResistanceTest\u001b[0m\n",
      "\u001b[38;2;107;191;99m\u001b[48;2;50;50;50mScore: Z = 0.11 for V_rest=-50mV on TimeConstantTest\u001b[0m\n",
      "\u001b[38;2;157;213;105m\u001b[48;2;50;50;50mScore: Z = -0.25 for V_rest=-50mV on CapacitanceTest\u001b[0m\n",
      "\u001b[38;2;230;78;52m\u001b[48;2;50;50;50mScore: Z = 2.79 for V_rest=-50mV on RestingPotentialTest\u001b[0m\n",
      "{'duration': array(300.) * ms, 'delay': array(100.) * ms, 'amplitude': array(9.76464844) * pA}\n"
     ]
    },
    {
     "name": "stderr",
     "output_type": "stream",
     "text": [
      "Spike train had length 0; no spike waveforms could be extracted.\n"
     ]
    },
    {
     "name": "stdout",
     "output_type": "stream",
     "text": [
      "\u001b[38;2;128;128;128m\u001b[48;2;50;50;50mScore: Insufficient Data for V_rest=-50mV on InjectedCurrentAPWidthTest\u001b[0m\n"
     ]
    },
    {
     "name": "stderr",
     "output_type": "stream",
     "text": [
      "Spike train had length 0; no spike waveforms could be extracted.\n",
      "Spike train had length 0; no spike waveforms could be extracted.\n"
     ]
    },
    {
     "name": "stdout",
     "output_type": "stream",
     "text": [
      "\u001b[38;2;128;128;128m\u001b[48;2;50;50;50mScore: Insufficient Data for V_rest=-50mV on InjectedCurrentAPAmplitudeTest\u001b[0m\n"
     ]
    },
    {
     "name": "stderr",
     "output_type": "stream",
     "text": [
      "Spike train had length 0; no spike waveforms could be extracted.\n"
     ]
    },
    {
     "name": "stdout",
     "output_type": "stream",
     "text": [
      "\u001b[38;2;128;128;128m\u001b[48;2;50;50;50mScore: Insufficient Data for V_rest=-50mV on InjectedCurrentAPThresholdTest\u001b[0m\n"
     ]
    }
   ],
   "source": [
    "score_matrix = suite.judge(models)"
   ]
  },
  {
   "cell_type": "code",
   "execution_count": 8,
   "metadata": {},
   "outputs": [
    {
     "data": {
      "text/html": [
       "<style  type=\"text/css\" >\n",
       "#T_c0197_row0_col0,#T_c0197_row0_col1,#T_c0197_row0_col2,#T_c0197_row0_col3,#T_c0197_row4_col3{\n",
       "            background-color:  rgb(50, 50, 50);\n",
       "             color:  rgb(230, 78, 52);\n",
       "             text-align:  center;\n",
       "        }#T_c0197_row1_col0{\n",
       "            background-color:  rgb(50, 50, 50);\n",
       "             color:  rgb(254, 203, 121);\n",
       "             text-align:  center;\n",
       "        }#T_c0197_row1_col1{\n",
       "            background-color:  rgb(50, 50, 50);\n",
       "             color:  rgb(255, 230, 149);\n",
       "             text-align:  center;\n",
       "        }#T_c0197_row1_col2{\n",
       "            background-color:  rgb(50, 50, 50);\n",
       "             color:  rgb(229, 244, 155);\n",
       "             text-align:  center;\n",
       "        }#T_c0197_row1_col3,#T_c0197_row3_col2{\n",
       "            background-color:  rgb(50, 50, 50);\n",
       "             color:  rgb(169, 219, 108);\n",
       "             text-align:  center;\n",
       "        }#T_c0197_row2_col0{\n",
       "            background-color:  rgb(50, 50, 50);\n",
       "             color:  rgb(247, 129, 76);\n",
       "             text-align:  center;\n",
       "        }#T_c0197_row2_col1{\n",
       "            background-color:  rgb(50, 50, 50);\n",
       "             color:  rgb(251, 155, 88);\n",
       "             text-align:  center;\n",
       "        }#T_c0197_row2_col2{\n",
       "            background-color:  rgb(50, 50, 50);\n",
       "             color:  rgb(254, 220, 136);\n",
       "             text-align:  center;\n",
       "        }#T_c0197_row2_col3{\n",
       "            background-color:  rgb(50, 50, 50);\n",
       "             color:  rgb(107, 191, 99);\n",
       "             text-align:  center;\n",
       "        }#T_c0197_row3_col0{\n",
       "            background-color:  rgb(50, 50, 50);\n",
       "             color:  rgb(173, 220, 110);\n",
       "             text-align:  center;\n",
       "        }#T_c0197_row3_col1{\n",
       "            background-color:  rgb(50, 50, 50);\n",
       "             color:  rgb(171, 220, 109);\n",
       "             text-align:  center;\n",
       "        }#T_c0197_row3_col3{\n",
       "            background-color:  rgb(50, 50, 50);\n",
       "             color:  rgb(157, 213, 105);\n",
       "             text-align:  center;\n",
       "        }#T_c0197_row4_col0{\n",
       "            background-color:  rgb(50, 50, 50);\n",
       "             color:  rgb(243, 107, 66);\n",
       "             text-align:  center;\n",
       "        }#T_c0197_row4_col1{\n",
       "            background-color:  rgb(50, 50, 50);\n",
       "             color:  rgb(165, 217, 106);\n",
       "             text-align:  center;\n",
       "        }#T_c0197_row4_col2{\n",
       "            background-color:  rgb(50, 50, 50);\n",
       "             color:  rgb(253, 170, 95);\n",
       "             text-align:  center;\n",
       "        }#T_c0197_row5_col0,#T_c0197_row5_col1,#T_c0197_row5_col2,#T_c0197_row5_col3,#T_c0197_row6_col0,#T_c0197_row6_col1,#T_c0197_row6_col2,#T_c0197_row6_col3,#T_c0197_row7_col0,#T_c0197_row7_col1,#T_c0197_row7_col2,#T_c0197_row7_col3{\n",
       "            background-color:  rgb(50, 50, 50);\n",
       "             color:  rgb(128, 128, 128);\n",
       "             text-align:  center;\n",
       "        }</style><table id=\"T_c0197_\" ><thead>    <tr>        <th class=\"blank level0\" ></th>        <th class=\"col_heading level0 col0\" >V_rest=-80mV</th>        <th class=\"col_heading level0 col1\" >V_rest=-70mV</th>        <th class=\"col_heading level0 col2\" >V_rest=-60mV</th>        <th class=\"col_heading level0 col3\" >V_rest=-50mV</th>    </tr></thead><tbody>\n",
       "                <tr>\n",
       "                        <th id=\"T_c0197_level0_row0\" class=\"row_heading level0 row0\" >RheobaseTest</th>\n",
       "                        <td id=\"T_c0197_row0_col0\" class=\"data row0 col0\" >Fail</td>\n",
       "                        <td id=\"T_c0197_row0_col1\" class=\"data row0 col1\" >Fail</td>\n",
       "                        <td id=\"T_c0197_row0_col2\" class=\"data row0 col2\" >Fail</td>\n",
       "                        <td id=\"T_c0197_row0_col3\" class=\"data row0 col3\" >Fail</td>\n",
       "            </tr>\n",
       "            <tr>\n",
       "                        <th id=\"T_c0197_level0_row1\" class=\"row_heading level0 row1\" >InputResistanceTest</th>\n",
       "                        <td id=\"T_c0197_row1_col0\" class=\"data row1 col0\" >Z = -1.04</td>\n",
       "                        <td id=\"T_c0197_row1_col1\" class=\"data row1 col1\" >Z = -0.87</td>\n",
       "                        <td id=\"T_c0197_row1_col2\" class=\"data row1 col2\" >Z = -0.53</td>\n",
       "                        <td id=\"T_c0197_row1_col3\" class=\"data row1 col3\" >Z = 0.29</td>\n",
       "            </tr>\n",
       "            <tr>\n",
       "                        <th id=\"T_c0197_level0_row2\" class=\"row_heading level0 row2\" >TimeConstantTest</th>\n",
       "                        <td id=\"T_c0197_row2_col0\" class=\"data row2 col0\" >Z = -1.56</td>\n",
       "                        <td id=\"T_c0197_row2_col1\" class=\"data row2 col1\" >Z = -1.35</td>\n",
       "                        <td id=\"T_c0197_row2_col2\" class=\"data row2 col2\" >Z = -0.94</td>\n",
       "                        <td id=\"T_c0197_row2_col3\" class=\"data row2 col3\" >Z = 0.11</td>\n",
       "            </tr>\n",
       "            <tr>\n",
       "                        <th id=\"T_c0197_level0_row3\" class=\"row_heading level0 row3\" >CapacitanceTest</th>\n",
       "                        <td id=\"T_c0197_row3_col0\" class=\"data row3 col0\" >Z = -0.30</td>\n",
       "                        <td id=\"T_c0197_row3_col1\" class=\"data row3 col1\" >Z = -0.30</td>\n",
       "                        <td id=\"T_c0197_row3_col2\" class=\"data row3 col2\" >Z = -0.28</td>\n",
       "                        <td id=\"T_c0197_row3_col3\" class=\"data row3 col3\" >Z = -0.25</td>\n",
       "            </tr>\n",
       "            <tr>\n",
       "                        <th id=\"T_c0197_level0_row4\" class=\"row_heading level0 row4\" >RestingPotentialTest</th>\n",
       "                        <td id=\"T_c0197_row4_col0\" class=\"data row4 col0\" >Z = -1.80</td>\n",
       "                        <td id=\"T_c0197_row4_col1\" class=\"data row4 col1\" >Z = -0.27</td>\n",
       "                        <td id=\"T_c0197_row4_col2\" class=\"data row4 col2\" >Z = 1.26</td>\n",
       "                        <td id=\"T_c0197_row4_col3\" class=\"data row4 col3\" >Z = 2.79</td>\n",
       "            </tr>\n",
       "            <tr>\n",
       "                        <th id=\"T_c0197_level0_row5\" class=\"row_heading level0 row5\" >InjectedCurrentAPWidthTest</th>\n",
       "                        <td id=\"T_c0197_row5_col0\" class=\"data row5 col0\" >Insufficient Data</td>\n",
       "                        <td id=\"T_c0197_row5_col1\" class=\"data row5 col1\" >Insufficient Data</td>\n",
       "                        <td id=\"T_c0197_row5_col2\" class=\"data row5 col2\" >Insufficient Data</td>\n",
       "                        <td id=\"T_c0197_row5_col3\" class=\"data row5 col3\" >Insufficient Data</td>\n",
       "            </tr>\n",
       "            <tr>\n",
       "                        <th id=\"T_c0197_level0_row6\" class=\"row_heading level0 row6\" >InjectedCurrentAPAmplitudeTest</th>\n",
       "                        <td id=\"T_c0197_row6_col0\" class=\"data row6 col0\" >Insufficient Data</td>\n",
       "                        <td id=\"T_c0197_row6_col1\" class=\"data row6 col1\" >Insufficient Data</td>\n",
       "                        <td id=\"T_c0197_row6_col2\" class=\"data row6 col2\" >Insufficient Data</td>\n",
       "                        <td id=\"T_c0197_row6_col3\" class=\"data row6 col3\" >Insufficient Data</td>\n",
       "            </tr>\n",
       "            <tr>\n",
       "                        <th id=\"T_c0197_level0_row7\" class=\"row_heading level0 row7\" >InjectedCurrentAPThresholdTest</th>\n",
       "                        <td id=\"T_c0197_row7_col0\" class=\"data row7 col0\" >Insufficient Data</td>\n",
       "                        <td id=\"T_c0197_row7_col1\" class=\"data row7 col1\" >Insufficient Data</td>\n",
       "                        <td id=\"T_c0197_row7_col2\" class=\"data row7 col2\" >Insufficient Data</td>\n",
       "                        <td id=\"T_c0197_row7_col3\" class=\"data row7 col3\" >Insufficient Data</td>\n",
       "            </tr>\n",
       "    </tbody></table>"
      ],
      "text/plain": [
       "                                     V_rest=-80mV       V_rest=-70mV  \\\n",
       "RheobaseTest                                 Fail               Fail   \n",
       "InputResistanceTest                     Z = -1.04          Z = -0.87   \n",
       "TimeConstantTest                        Z = -1.56          Z = -1.35   \n",
       "CapacitanceTest                         Z = -0.30          Z = -0.30   \n",
       "RestingPotentialTest                    Z = -1.80          Z = -0.27   \n",
       "InjectedCurrentAPWidthTest      Insufficient Data  Insufficient Data   \n",
       "InjectedCurrentAPAmplitudeTest  Insufficient Data  Insufficient Data   \n",
       "InjectedCurrentAPThresholdTest  Insufficient Data  Insufficient Data   \n",
       "\n",
       "                                     V_rest=-60mV       V_rest=-50mV  \n",
       "RheobaseTest                                 Fail               Fail  \n",
       "InputResistanceTest                     Z = -0.53           Z = 0.29  \n",
       "TimeConstantTest                        Z = -0.94           Z = 0.11  \n",
       "CapacitanceTest                         Z = -0.28          Z = -0.25  \n",
       "RestingPotentialTest                     Z = 1.26           Z = 2.79  \n",
       "InjectedCurrentAPWidthTest      Insufficient Data  Insufficient Data  \n",
       "InjectedCurrentAPAmplitudeTest  Insufficient Data  Insufficient Data  \n",
       "InjectedCurrentAPThresholdTest  Insufficient Data  Insufficient Data  "
      ]
     },
     "execution_count": 8,
     "metadata": {},
     "output_type": "execute_result"
    }
   ],
   "source": [
    "score_matrix.show_mean = True # Show the mean value across test scores. \n",
    "                              # The mean is computed using the norm_score attribute, which is in the range [0,1] for\n",
    "                              # all Score types\n",
    "score_matrix.T"
   ]
  },
  {
   "cell_type": "markdown",
   "metadata": {},
   "source": [
    "### Let's take a look at a sweep from one of these models ($V_{rest} = -60 mV$) obtained at the rheobase current.  "
   ]
  },
  {
   "cell_type": "code",
   "execution_count": 9,
   "metadata": {},
   "outputs": [
    {
     "data": {
      "image/png": "[encoded data removed]",
      "text/plain": [
       "<Figure size 432x288 with 1 Axes>"
      ]
     },
     "metadata": {
      "needs_background": "light"
     },
     "output_type": "display_data"
    }
   ],
   "source": [
    "score_matrix['RheobaseTest']['V_rest=-60mV'].plot_vm() # Plot the rheobase current from the model with V_rest = -60 mV"
   ]
  }
 ],
 "metadata": {
  "kernelspec": {
   "display_name": "Python 3",
   "language": "python",
   "name": "python3"
  },
  "language_info": {
   "codemirror_mode": {
    "name": "ipython",
    "version": 3
   },
   "file_extension": ".py",
   "mimetype": "text/x-python",
   "name": "python",
   "nbconvert_exporter": "python",
   "pygments_lexer": "ipython3",
   "version": "3.9.4"
  }
 },
 "nbformat": 4,
 "nbformat_minor": 4
}
